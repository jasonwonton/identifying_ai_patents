{
 "cells": [
  {
   "cell_type": "code",
   "execution_count": null,
   "id": "reserved-riverside",
   "metadata": {
    "scrolled": false
   },
   "outputs": [],
   "source": [
    "from bs4 import BeautifulSoup as bs\n",
    "import pandas as pd\n",
    "import os\n",
    "\n",
    "\n",
    "files = os.listdir()\n",
    "os.mkdir(\"Cleaned_Patents\")\n",
    "for i in range(2000, 2021):\n",
    "    os.mkdir(\"Cleaned_Patents/{}\".format(str(i)))\n",
    "to_fill_dir = \"Cleaned_Patents\"\n",
    "\n",
    "\n",
    "#Logging the files that we cannot parse for whatever reason\n",
    "open(\"ExceptionLog.txt\", \"w\")\n",
    "\n",
    "\n",
    "\n",
    "#Each filing is split by that xml encoding line\n",
    "for file in files:\n",
    "    if file[:3] == \"ipg\":\n",
    "        year = file[3:][:2]\n",
    "        month = file[3:][2:4]\n",
    "        day = file[3:][4:6]\n",
    "    if file[:2] == \"pg\":\n",
    "        year = file[2:][:2]\n",
    "        month = file[2:][2:4]\n",
    "        day = file[2:][4:6]\n",
    "    write_directory = \"20{}/{}_{}.csv\".format(year, month, day)\n",
    "    try:\n",
    "        with open(file, \"r\") as f:\n",
    "            content = \"\".join(f.readlines())\n",
    "        content = content.split('<?xml version=\"1.0\" encoding=\"UTF-8\"?>')\n",
    "        for i in range(len(content)):\n",
    "            content[i] += '<?xml version=\"1.0\" encoding=\"UTF-8\"?>'\n",
    "\n",
    "        data = []\n",
    "        for x in content:\n",
    "            #Use beautifulsoup to grab content, convert to csv\n",
    "            bs_content = bs(x, \"lxml\")\n",
    "            description = bs_content.find_all(\"description\")\n",
    "            claims = bs_content.find_all(\"claims\")\n",
    "            term_grant = bs_content.find_all(\"us-term-of-grant\")\n",
    "            title = bs_content.find_all(\"invention-title\")\n",
    "            date = bs_content.find_all(\"date\")\n",
    "            kind = bs_content.find_all(\"kind\")\n",
    "            data.append([description, claims, term_grant, title, date, kind])\n",
    "\n",
    "\n",
    "        data = pd.DataFrame(data, columns=[\"description\", \"claims\", \"term_grant\", \"title\", \"date\", \"kind\"])\n",
    "        data.to_csv(\"Cleaned_Patents/{}\".format(write_directory))\n",
    "    except:\n",
    "        with open(\"ExceptionLog.txt\", \"a\") as f:\n",
    "            f.write(file + \"\\n\")\n",
    "        pass\n",
    "        "
   ]
  },
  {
   "cell_type": "code",
   "execution_count": 9,
   "id": "pursuant-kinase",
   "metadata": {},
   "outputs": [
    {
     "name": "stdout",
     "output_type": "stream",
     "text": [
      "05\n",
      "01\n",
      "04\n"
     ]
    }
   ],
   "source": [
    "for x in range(3):\n",
    "    print(\"ipg050104\"[3:][x*2:(x+1)*2])"
   ]
  },
  {
   "cell_type": "code",
   "execution_count": 7,
   "id": "level-citizen",
   "metadata": {},
   "outputs": [
    {
     "data": {
      "text/plain": [
       "'05'"
      ]
     },
     "execution_count": 7,
     "metadata": {},
     "output_type": "execute_result"
    }
   ],
   "source": [
    "\"ipg050104\".split(\"ipg\")[1]"
   ]
  },
  {
   "cell_type": "code",
   "execution_count": 14,
   "id": "invisible-might",
   "metadata": {},
   "outputs": [
    {
     "data": {
      "text/plain": [
       "'04'"
      ]
     },
     "execution_count": 14,
     "metadata": {},
     "output_type": "execute_result"
    }
   ],
   "source": [
    "\"ipg050104\"[3:][:2]\n",
    "\"ipg050104\"[3:][2:4]\n",
    "\"ipg050104\"[3:][4:6]\n"
   ]
  },
  {
   "cell_type": "code",
   "execution_count": 17,
   "id": "seasonal-patient",
   "metadata": {},
   "outputs": [
    {
     "data": {
      "text/plain": [
       "'050104'"
      ]
     },
     "execution_count": 17,
     "metadata": {},
     "output_type": "execute_result"
    }
   ],
   "source": [
    "\"pg050104\"[2:]"
   ]
  },
  {
   "cell_type": "code",
   "execution_count": null,
   "id": "congressional-march",
   "metadata": {},
   "outputs": [],
   "source": []
  }
 ],
 "metadata": {
  "kernelspec": {
   "display_name": "Python 3",
   "language": "python",
   "name": "python3"
  },
  "language_info": {
   "codemirror_mode": {
    "name": "ipython",
    "version": 3
   },
   "file_extension": ".py",
   "mimetype": "text/x-python",
   "name": "python",
   "nbconvert_exporter": "python",
   "pygments_lexer": "ipython3",
   "version": "3.8.5"
  }
 },
 "nbformat": 4,
 "nbformat_minor": 5
}
